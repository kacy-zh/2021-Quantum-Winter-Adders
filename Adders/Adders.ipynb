{
 "cells": [
  {
   "cell_type": "markdown",
   "id": "d7cdfce6-900f-4b65-afba-e22e19f234cf",
   "metadata": {},
   "source": [
    "# 0. Global Items"
   ]
  },
  {
   "cell_type": "markdown",
   "id": "fd09dca8-8b32-4c4f-b985-d9835cb2a646",
   "metadata": {},
   "source": [
    "## 0.1 Imports and Constants"
   ]
  },
  {
   "cell_type": "code",
   "execution_count": 1,
   "id": "131ce713-0fc2-4bfb-a8f8-7d38fb48efc6",
   "metadata": {
    "jupyter": {
     "source_hidden": true
    },
    "tags": []
   },
   "outputs": [],
   "source": [
    "# Imports\n",
    "\n",
    "# Personal functions\n",
    "from circuits import *\n",
    "from qubits import *\n",
    "\n",
    "# Numbers and plotting\n",
    "import numpy as np\n",
    "import pandas as pd\n",
    "import matplotlib.ticker as mtick\n",
    "import matplotlib.pyplot as plt\n",
    "import collections\n",
    "\n",
    "# Quantum tools\n",
    "from qiskit import QuantumCircuit, transpile, Aer, IBMQ, execute\n",
    "from qiskit.tools.jupyter import *\n",
    "from qiskit.visualization import *\n",
    "from qiskit.providers.aer.noise import NoiseModel\n",
    "from qiskit.test.mock import FakeMelbourne\n",
    "from ibm_quantum_widgets import *\n",
    "\n",
    "# Constants\n",
    "N = 100000 # Number of iterations"
   ]
  },
  {
   "cell_type": "markdown",
   "id": "fccfc6d0-2a4e-469b-9912-01440d2e3e5a",
   "metadata": {},
   "source": [
    "## 0.2 IBM Account"
   ]
  },
  {
   "cell_type": "code",
   "execution_count": 23,
   "id": "2c0a13fa-6fb2-4e62-a2ef-4d022ce99bdf",
   "metadata": {
    "tags": []
   },
   "outputs": [
    {
     "name": "stderr",
     "output_type": "stream",
     "text": [
      "ibmqfactory.load_account:WARNING:2021-08-07 18:18:08,040: Credentials are already in use. The existing account in the session will be replaced.\n"
     ]
    }
   ],
   "source": [
    "# Loading your IBM Quantum account(s)\n",
    "mute = IBMQ.save_account('', overwrite=True)\n",
    "provider = IBMQ.load_account()"
   ]
  },
  {
   "cell_type": "markdown",
   "id": "aaa96198-57b6-41e7-8380-e155fe151005",
   "metadata": {},
   "source": [
    "## 0.3 IBM Computer"
   ]
  },
  {
   "cell_type": "code",
   "execution_count": 24,
   "id": "72ff5001-d368-4ef1-99f5-c1b441eb77f9",
   "metadata": {
    "jupyter": {
     "source_hidden": true
    },
    "tags": []
   },
   "outputs": [],
   "source": [
    "backend = FakeMelbourne()\n",
    "noise_model = NoiseModel.from_backend(backend)\n",
    "coupling_map = backend.configuration().coupling_map\n",
    "basis_gates = noise_model.basis_gates\n",
    "KWARGS = {\"coupling_map\": coupling_map, \"basis_gates\": basis_gates, \"noise_model\": noise_model, \"shots\": N}"
   ]
  },
  {
   "cell_type": "markdown",
   "id": "81a1d1c6-9f7f-43fe-aad6-55cd16be527f",
   "metadata": {},
   "source": [
    "## 0.4 Functions"
   ]
  },
  {
   "cell_type": "markdown",
   "id": "8ae0ec4e-cda4-49d4-85d3-ac039db17d35",
   "metadata": {},
   "source": [
    "### 0.4.1 Results"
   ]
  },
  {
   "cell_type": "code",
   "execution_count": 25,
   "id": "b6b5c045-e03e-4052-89d0-fb7ba5e37f28",
   "metadata": {
    "jupyter": {
     "source_hidden": true
    },
    "tags": []
   },
   "outputs": [],
   "source": [
    "def find_success_rates(num_qubits, num_print, circuit, answer):\n",
    "    \"\"\" Plots the results from Qiskit \n",
    "    \n",
    "    Args:\n",
    "        num_qubits: The number of qubits that will change\n",
    "        num_print: The total number of qubits\n",
    "        circuit: The circuit to be used\n",
    "        answer: The function used to calculate success \"\"\"\n",
    "    \n",
    "    # Preparation\n",
    "    rates = {}\n",
    "    format_string = \"{0:0\" + str(num_qubits) + \"b}\"\n",
    "    print_string = \"{0:0\" + str(num_print) + \"b}\"\n",
    "    print(\"Input: Expected Output, Actual Output, Number of Occurances (n = \" + str(N) + \")\")\n",
    "    \n",
    "    # For each input\n",
    "    for input_num in range(pow(2,num_qubits)):\n",
    "\n",
    "        # Making a list of the input qubit states\n",
    "        qubits = []\n",
    "        binary_num = [int(x) for x in list(format_string.format(input_num))]\n",
    "        \n",
    "        # Sorting out the expected output\n",
    "        expected_output = answer(input_num)\n",
    "\n",
    "        # Running Qiskit\n",
    "        qc = circuit.get_quantum_circuit(get_qubits(input_num, 6))\n",
    "        result = execute(qc, Aer.get_backend('qasm_simulator'), **KWARGS).result()\n",
    "\n",
    "        # Storing results\n",
    "        counts = result.get_counts(0)\n",
    "        rates[format_string.format(input_num)] = counts.get(print_string.format(expected_output))\n",
    "\n",
    "        # Printing results\n",
    "        print(format_string.format(input_num),\":\",\n",
    "              print_string.format(expected_output), \n",
    "              counts.most_frequent(), \n",
    "              counts.get(counts.most_frequent()))\n",
    "        if (counts.most_frequent() != print_string.format(expected_output)):\n",
    "            print(\"^ The most frequent result for\",format_string.format(input_num),\"was not the expected result.\")\n",
    "    \n",
    "    return rates\n",
    "\n",
    "def sort_results(results):\n",
    "    \"\"\" Cleans and sorts results by Hamming weight \"\"\"\n",
    "    results_copy = results.copy()\n",
    "    for k, v in results_copy.items():\n",
    "        if v is None:\n",
    "            results_copy[k] = 0\n",
    "        else:\n",
    "            results_copy[k] = results_copy[k]/N\n",
    "\n",
    "    results_copy = dict(collections.OrderedDict(sorted(results_copy.items(), key=lambda x: (x[0].count(\"1\"), x))))\n",
    "    return results_copy\n",
    "\n",
    "\"\"\" Success functions for different adders \"\"\"\n",
    "\n",
    "def in_place_with(input_num):\n",
    "    return find_addition(list_to_num(to_binary(input_num, 6)))\n",
    "\n",
    "def in_place_without(input_num):\n",
    "    number = to_binary(find_addition(input_num), 6)\n",
    "    number.insert(0,0)\n",
    "    return list_to_num(number)\n",
    "\n"
   ]
  },
  {
   "cell_type": "markdown",
   "id": "a74bfb76-0bf0-4f1a-af5f-9cbcb7a4f94c",
   "metadata": {},
   "source": [
    "### 0.4.1 Plotting"
   ]
  },
  {
   "cell_type": "code",
   "execution_count": 26,
   "id": "4b78f374-e0b8-47c3-8844-505f46b8be03",
   "metadata": {
    "jupyter": {
     "source_hidden": true
    },
    "tags": []
   },
   "outputs": [],
   "source": [
    "def plot_results(results, title, num_occur, hamming):\n",
    "    \"\"\" Plots the results from Qiskit \n",
    "    \n",
    "    Args:\n",
    "        results: The dictionary of results\n",
    "        title: String for the title\n",
    "        num_occur: Number of iterations\n",
    "        hamming: Sort graph by Hamming weight or by occurances \"\"\"\n",
    "    \n",
    "    for k, v in results.items():\n",
    "        if v is None:\n",
    "            results[k] = 0\n",
    "        \n",
    "    # Sorting results by Hamming weight\n",
    "    if hamming == True:\n",
    "        results = dict(collections.OrderedDict(sorted(results.items(), key=lambda x: (x[0].count(\"1\"), x))))\n",
    "    # Else sort by occurances\n",
    "    else:\n",
    "        results = dict(collections.OrderedDict(sorted(results.values())))\n",
    "    \n",
    "    # Plotting specifications\n",
    "    plt.rcParams[\"figure.figsize\"] = (20,5)\n",
    "    \n",
    "    fig, ax = plt.subplots()\n",
    "    ax.grid('on', which='both', axis='y', color='lightgrey', linestyle='--', zorder=10)\n",
    "    ax.set_axisbelow(True)\n",
    "    \n",
    "    plt.bar(range(len(results)), list(results.values()), align='center')\n",
    "\n",
    "    plt.title(title)\n",
    "    plt.xlabel(\"Input Qubits\")\n",
    "    plt.xticks(range(len(results)), list(results.keys()))\n",
    "    plt.xticks(rotation = 90)\n",
    "    plt.ylabel(\"Number of Successes (n = \" + str(num_occur) + \")\")\n",
    "    ax.yaxis.set_major_formatter(mtick.PercentFormatter(num_occur))\n",
    "    ax.set_ylim(0, num_occur/2)\n",
    "    \n",
    "    plt.show()"
   ]
  },
  {
   "cell_type": "markdown",
   "id": "fb9327b8-d7f7-4eb6-bee2-b97e2ad0c639",
   "metadata": {},
   "source": [
    "# 1. In Place Adders"
   ]
  },
  {
   "cell_type": "markdown",
   "id": "e05f6911-6570-4231-b3e8-2fb92336c815",
   "metadata": {},
   "source": [
    "## 1.1 In Place Adder With CCCNOTs"
   ]
  },
  {
   "cell_type": "markdown",
   "id": "0c33043c-3211-4753-8431-f93064efb309",
   "metadata": {},
   "source": [
    "### 1.1.1 Circuit Representation"
   ]
  },
  {
   "cell_type": "code",
   "execution_count": 27,
   "id": "f210490d-fbe1-44a0-970d-32be320c67e3",
   "metadata": {
    "tags": []
   },
   "outputs": [],
   "source": [
    "ip_with = circuit_builder(\n",
    "    6,\n",
    "[\n",
    "    [0, [[2, 3, 6], 1], 0], \n",
    "    [1, [[2, 5], 1], 0], \n",
    "    [0, [[2, 5], 1], 1],\n",
    "    [2, [[4], 1], 0], \n",
    "    [1, [[4], 1], 1], \n",
    "    [0, [[4], 1], 2], \n",
    "    \n",
    "])\n"
   ]
  },
  {
   "cell_type": "markdown",
   "id": "3cc2119e-bae8-425c-8a9e-fb517e6ebd12",
   "metadata": {},
   "source": [
    "### 1.1.2 Success Rates for Each Input"
   ]
  },
  {
   "cell_type": "code",
   "execution_count": 28,
   "id": "b9552695-cb74-45d2-bf7e-fd7c4cf619e1",
   "metadata": {
    "tags": []
   },
   "outputs": [
    {
     "name": "stdout",
     "output_type": "stream",
     "text": [
      "Input: Expected Output, Actual Output, Number of Occurances (n = 100000)\n",
      "000000 : 000000 000000 32467\n",
      "000001 : 000001 000001 24065\n",
      "000010 : 000010 000010 18964\n",
      "000011 : 000011 000011 19970\n",
      "000100 : 000100 000100 15972\n",
      "000101 : 000101 000101 11856\n",
      "000110 : 000110 000110 15110\n",
      "000111 : 000111 000111 10953\n",
      "001000 : 001001 001001 31403\n",
      "001001 : 001000 001000 15804\n",
      "001010 : 001011 001011 13740\n",
      "001011 : 001010 001010 14358\n",
      "001100 : 001101 001101 12081\n",
      "001101 : 001100 001100 9761\n",
      "001110 : 001111 001111 8097\n",
      "001111 : 001110 001110 12409\n",
      "010000 : 010010 010010 18326\n",
      "010001 : 010011 010011 10631\n",
      "010010 : 010001 010001 12876\n",
      "010011 : 010000 010000 12751\n",
      "010100 : 010110 010110 17556\n",
      "010101 : 010111 010111 12092\n",
      "010110 : 010101 010101 13660\n",
      "010111 : 010100 010100 10573\n",
      "011000 : 011011 011011 16940\n",
      "011001 : 011010 011010 13741\n",
      "011010 : 011000 011000 9680\n",
      "011011 : 011001 011001 12899\n",
      "011100 : 011111 011111 10807\n",
      "011101 : 011110 011110 9193\n",
      "011110 : 011100 011100 8304\n",
      "011111 : 011101 011101 6584\n",
      "100000 : 100100 100100 17349\n",
      "100001 : 100101 100101 11888\n",
      "100010 : 100110 100110 9465\n",
      "100011 : 100111 000010 7667\n",
      "^ The most frequent result for 100011 was not the expected result.\n",
      "100100 : 100010 100010 9949\n",
      "100101 : 100011 000001 9346\n",
      "^ The most frequent result for 100101 was not the expected result.\n",
      "100110 : 100001 100001 12458\n",
      "100111 : 100000 100000 13088\n",
      "101000 : 101101 101101 9283\n",
      "101001 : 101100 101100 15072\n",
      "101010 : 101111 101111 8278\n",
      "101011 : 101110 101110 9057\n",
      "101100 : 101011 101011 7668\n",
      "101101 : 101010 101010 10168\n",
      "101110 : 101000 101000 11770\n",
      "101111 : 101001 101001 9154\n",
      "110000 : 110110 110110 11161\n",
      "110001 : 110111 110111 9186\n",
      "110010 : 110101 110101 5991\n",
      "110011 : 110100 110100 9899\n",
      "110100 : 110001 110001 6919\n",
      "110101 : 110000 110000 12562\n",
      "110110 : 110011 110011 6682\n",
      "110111 : 110010 110010 6602\n",
      "111000 : 111111 111111 12428\n",
      "111001 : 111110 111110 8172\n",
      "111010 : 111100 111100 9614\n",
      "111011 : 111101 111101 6450\n",
      "111100 : 111000 111000 5397\n",
      "111101 : 111001 111001 8350\n",
      "111110 : 111010 111010 6382\n",
      "111111 : 111011 111011 5537\n"
     ]
    }
   ],
   "source": [
    "# Dictionary for storing results\n",
    "results_ip_with = find_success_rates(6, 6, ip_with, in_place_with)"
   ]
  },
  {
   "cell_type": "markdown",
   "id": "b4a74169-8d34-4802-afaa-418e6edf00c9",
   "metadata": {},
   "source": [
    "### 1.1.3 Graph Obtained"
   ]
  },
  {
   "cell_type": "code",
   "execution_count": 29,
   "id": "b77b03c8-9804-4f10-aa47-e2cb1cb645a3",
   "metadata": {
    "tags": []
   },
   "outputs": [
    {
     "data": {
      "image/png": "[encoded data removed]",
      "text/plain": [
       "<Figure size 1440x360 with 1 Axes>"
      ]
     },
     "metadata": {
      "needs_background": "light"
     },
     "output_type": "display_data"
    }
   ],
   "source": [
    "title = \"Success Rate of Differing Qubit Inputs for a 3 Qubit In Place Adder with CCCNOTs\"\n",
    "\n",
    "plot_results(results_ip_with, title, N, True)"
   ]
  },
  {
   "cell_type": "markdown",
   "id": "46a0012e-44f6-4c6d-9ca4-5089afd163ca",
   "metadata": {},
   "source": [
    "## 1.2 In Place Adder Without CCCNOTs"
   ]
  },
  {
   "cell_type": "markdown",
   "id": "4e04089a-f330-4b0f-9cff-9b9e595cb5ed",
   "metadata": {},
   "source": [
    "### 1.2.1 Circuit Representation"
   ]
  },
  {
   "cell_type": "code",
   "execution_count": 30,
   "id": "cc564225-03a1-40be-b60e-31cfaadb0b03",
   "metadata": {},
   "outputs": [],
   "source": [
    "ip_without = circuit_builder(\n",
    "    7,\n",
    "[\n",
    "    [2, [[1, 4], 5], 0], \n",
    "    [0, [[2, 7], 1], 0], \n",
    "    [1, [[6], 1], 0], \n",
    "    [2, [[1, 4], 5], 0], \n",
    "    [0, [[2, 5], 1], 2], \n",
    "    [2, [[4], 1], 1],\n",
    "    [1, [[4], 1], 2], \n",
    "    [0, [[4], 1], 3], \n",
    "    \n",
    "     \n",
    "])"
   ]
  },
  {
   "cell_type": "markdown",
   "id": "1b50e838-3649-4b2d-92bf-38e6e328c9aa",
   "metadata": {},
   "source": [
    "### 1.2.2 Success Rates for Each Input"
   ]
  },
  {
   "cell_type": "code",
   "execution_count": 31,
   "id": "3382eed4-aa5b-4e47-86c8-ad937c12419f",
   "metadata": {
    "tags": []
   },
   "outputs": [
    {
     "name": "stdout",
     "output_type": "stream",
     "text": [
      "Input: Expected Output, Actual Output, Number of Occurances (n = 100000)\n",
      "000000 : 0000000 0000000 22041\n",
      "000001 : 0000001 0000001 16812\n",
      "000010 : 0000010 0000010 18037\n",
      "000011 : 0000011 0000011 19921\n",
      "000100 : 0000100 0000100 16301\n",
      "000101 : 0000101 0000101 19355\n",
      "000110 : 0000110 0000110 19597\n",
      "000111 : 0000111 0000111 14116\n",
      "001000 : 0001001 0001001 13758\n",
      "001001 : 0001000 0001000 23080\n",
      "001010 : 0001011 0001011 18417\n",
      "001011 : 0001010 0001010 15591\n",
      "001100 : 0001101 0001101 14804\n",
      "001101 : 0001100 0001100 13937\n",
      "001110 : 0001111 0001111 9136\n",
      "001111 : 0001110 0001110 15095\n",
      "010000 : 0010010 0010010 29106\n",
      "010001 : 0010011 0010011 17511\n",
      "010010 : 0010001 0010001 18262\n",
      "010011 : 0010000 0010000 13612\n",
      "010100 : 0010110 0010110 20821\n",
      "010101 : 0010111 0010111 9643\n",
      "010110 : 0010101 0010101 11185\n",
      "010111 : 0010100 0010100 13758\n",
      "011000 : 0011011 0011011 12020\n",
      "011001 : 0011010 0011010 15186\n",
      "011010 : 0011000 0011000 16584\n",
      "011011 : 0011001 0011001 12426\n",
      "011100 : 0011111 0011111 9010\n",
      "011101 : 0011110 0011110 9435\n",
      "011110 : 0011100 0011100 13490\n",
      "011111 : 0011101 0011101 7740\n",
      "100000 : 0100100 0100100 12728\n",
      "100001 : 0100101 0100101 15722\n",
      "100010 : 0100110 0100110 16736\n",
      "100011 : 0100111 0100111 12843\n",
      "100100 : 0100010 0100010 11477\n",
      "100101 : 0100011 0100011 7500\n",
      "100110 : 0100001 0100001 10136\n",
      "100111 : 0100000 0100000 14247\n",
      "101000 : 0101101 0101101 25448\n",
      "101001 : 0101100 0101100 10515\n",
      "101010 : 0101111 0101111 13574\n",
      "101011 : 0101110 0101110 10625\n",
      "101100 : 0101011 0101011 9415\n",
      "101101 : 0101010 0101010 7304\n",
      "101110 : 0101000 0101000 12322\n",
      "101111 : 0101001 0101001 8551\n",
      "110000 : 0110110 0110110 12696\n",
      "110001 : 0110111 0110111 16174\n",
      "110010 : 0110101 0110101 9559\n",
      "110011 : 0110100 0110100 11557\n",
      "110100 : 0110001 0110001 14493\n",
      "110101 : 0110000 0110000 18980\n",
      "110110 : 0110011 0110011 12677\n",
      "110111 : 0110010 0110010 16084\n",
      "111000 : 0111111 0111111 13928\n",
      "111001 : 0111110 0111110 12557\n",
      "111010 : 0111100 0111100 15504\n",
      "111011 : 0111101 0111101 9350\n",
      "111100 : 0111000 0111000 12955\n",
      "111101 : 0111001 0111001 9026\n",
      "111110 : 0111010 0111010 14243\n",
      "111111 : 0111011 0111011 5203\n"
     ]
    }
   ],
   "source": [
    "results_ip_without = find_success_rates(6, 7, ip_without, in_place_without)"
   ]
  },
  {
   "cell_type": "markdown",
   "id": "6f3c4cbf-e82d-453a-b749-007bfcbff158",
   "metadata": {},
   "source": [
    "### 1.1.3 Graph Obtained"
   ]
  },
  {
   "cell_type": "code",
   "execution_count": 32,
   "id": "387b6d4b-ba97-48f5-bb6e-7643c108319f",
   "metadata": {
    "tags": []
   },
   "outputs": [
    {
     "data": {
      "image/png": "[encoded data removed]",
      "text/plain": [
       "<Figure size 1440x360 with 1 Axes>"
      ]
     },
     "metadata": {
      "needs_background": "light"
     },
     "output_type": "display_data"
    }
   ],
   "source": [
    "title = \"Success Rate of Differing Qubit Inputs for a 3 Qubit In Place Adder without CCCNOTs\"\n",
    "\n",
    "plot_results(results_ip_without, title, N, True)"
   ]
  },
  {
   "cell_type": "markdown",
   "id": "8f4899a8-a5cf-401e-ae8b-2dc61be50282",
   "metadata": {},
   "source": [
    "## 1.3 Comparisons"
   ]
  },
  {
   "cell_type": "markdown",
   "id": "aa9def17-13f6-4c12-82bb-71e35fab55e1",
   "metadata": {},
   "source": [
    "### 1.3.1 Graph"
   ]
  },
  {
   "cell_type": "code",
   "execution_count": 33,
   "id": "44e3d40f-4959-478d-b012-e8c59fd89820",
   "metadata": {
    "jupyter": {
     "source_hidden": true
    },
    "tags": []
   },
   "outputs": [
    {
     "data": {
      "text/plain": [
       "Text(0.5, 1.0, 'Comparison of Success Rate of Two Different 3 Qubit In Place Adders')"
      ]
     },
     "execution_count": 33,
     "metadata": {},
     "output_type": "execute_result"
    },
    {
     "data": {
      "image/png": "[encoded data removed]",
      "text/plain": [
       "<Figure size 1440x360 with 1 Axes>"
      ]
     },
     "metadata": {
      "needs_background": "light"
     },
     "output_type": "display_data"
    }
   ],
   "source": [
    "sorted_ip_with = sort_results(results_ip_with)\n",
    "sorted_ip_without = sort_results(results_ip_without)\n",
    "\n",
    "ip = pd.DataFrame(\n",
    "    {'Input Qubits': sorted_ip_with.keys(),\n",
    "     'With CCCNOTs': sorted_ip_with.values(),\n",
    "     'Without CCCNOTs': sorted_ip_without.values()\n",
    "    })\n",
    "\n",
    "ax = ip.plot(x=\"Input Qubits\", y=[\"With CCCNOTs\", \"Without CCCNOTs\"], kind=\"bar\")\n",
    "ax.yaxis.set_major_formatter(mtick.PercentFormatter(1))\n",
    "ax.set_ylabel(\"Number of Occurances (N = \" + str(N) + \")\")\n",
    "ax.set_title(\"Comparison of Success Rate of Two Different 3 Qubit In Place Adders\")\n"
   ]
  },
  {
   "cell_type": "markdown",
   "id": "f02e0bf8-65cc-4752-af31-88d5fc0fc49d",
   "metadata": {},
   "source": [
    "### 1.3.2 Average Percentages"
   ]
  },
  {
   "cell_type": "code",
   "execution_count": 34,
   "id": "bdb8a905-2576-474f-b8e7-066364dea878",
   "metadata": {},
   "outputs": [
    {
     "name": "stdout",
     "output_type": "stream",
     "text": [
      "Average success percent for in place adder with CCCNOTs: 11.9%\n",
      "Average success percent for in place adder without CCCNOTs: 14.1%\n"
     ]
    }
   ],
   "source": [
    "print(\"Average success percent for in place adder with CCCNOTs: {0:0.1f}%\".format(100*sum(sorted_ip_with.values())/len(sorted_ip_with)))\n",
    "print(\"Average success percent for in place adder without CCCNOTs: {0:0.1f}%\".format(100*sum(sorted_ip_without.values())/len(sorted_ip_without)))"
   ]
  },
  {
   "cell_type": "markdown",
   "id": "536cbaf6-2c10-43c4-8819-08fd8c5733e0",
   "metadata": {},
   "source": [
    "# 2. Out of Place Adders"
   ]
  },
  {
   "cell_type": "markdown",
   "id": "afe55cae-8807-4ca1-85e0-a80835c930d6",
   "metadata": {},
   "source": [
    "## 2.1 Out of Place Adder With CCCNOTs"
   ]
  },
  {
   "cell_type": "markdown",
   "id": "efc86b8c-ac5c-4f18-b2ad-8b3eb52deacb",
   "metadata": {},
   "source": [
    "### 2.1.1 Circuit Representation"
   ]
  },
  {
   "cell_type": "code",
   "execution_count": 17,
   "id": "bedc300a-5939-484a-bad5-30c2c603d97b",
   "metadata": {},
   "outputs": [],
   "source": [
    "op_with = circuit_builder(\n",
    "    9,\n",
    "[\n",
    "    [0, [[5, 6, 9], 1], 0],\n",
    "    [0, [[6, 8, 9], 1], 0],\n",
    "    [0, [[5, 8], 1], 1],\n",
    "    [1, [[5, 8], 1], 0],\n",
    "    [0, [[7], 1], 2],\n",
    "    [1, [[7], 1], 1],\n",
    "    [2, [[7], 1], 0],\n",
    "    [0, [[4], 1], 5],\n",
    "    [1, [[4], 1], 4],\n",
    "    [2, [[4], 1], 3],\n",
    "])"
   ]
  },
  {
   "cell_type": "markdown",
   "id": "3ab0a14a-035f-4ee6-80ec-e2e3e492b61a",
   "metadata": {},
   "source": [
    "### 2.1.2 Success Rates for Each Input"
   ]
  },
  {
   "cell_type": "code",
   "execution_count": 18,
   "id": "581eed90-1ba4-4806-bd0a-69d66138b682",
   "metadata": {
    "jupyter": {
     "source_hidden": true
    },
    "tags": []
   },
   "outputs": [
    {
     "name": "stdout",
     "output_type": "stream",
     "text": [
      "Input: Expected Output, Actual Output, Number of Occurances (n = 100000)\n",
      "000000 : 000000000 000000000 8138\n",
      "000001 : 000001001 000001001 7185\n",
      "000010 : 000010010 000000000 6090\n",
      "^ The most frequent result for 000010 was not the expected result.\n",
      "000011 : 000011011 000001001 4225\n",
      "^ The most frequent result for 000011 was not the expected result.\n",
      "000100 : 000100100 000000000 7354\n",
      "^ The most frequent result for 000100 was not the expected result.\n",
      "000101 : 000101101 000101101 5660\n",
      "000110 : 000110110 000110110 3522\n",
      "000111 : 000111111 000011011 2894\n",
      "^ The most frequent result for 000111 was not the expected result.\n",
      "001000 : 001000001 001000001 7034\n",
      "001001 : 001001000 001001000 6046\n",
      "001010 : 001010011 001010011 6608\n",
      "001011 : 001011010 001011010 3189\n",
      "001100 : 001100101 001000001 5005\n",
      "^ The most frequent result for 001100 was not the expected result.\n",
      "001101 : 001101100 001101100 3345\n",
      "001110 : 001110111 001110111 3316\n",
      "001111 : 001111110 001011010 3948\n",
      "^ The most frequent result for 001111 was not the expected result.\n",
      "010000 : 010000010 000000000 5302\n",
      "^ The most frequent result for 010000 was not the expected result.\n",
      "010001 : 010001011 000001001 4652\n",
      "^ The most frequent result for 010001 was not the expected result.\n",
      "010010 : 010010001 010010001 3693\n",
      "010011 : 010011000 010011000 2914\n",
      "010100 : 010100110 000000000 5449\n",
      "^ The most frequent result for 010100 was not the expected result.\n",
      "010101 : 010101111 010101111 1855\n",
      "010110 : 010110101 000100100 3308\n",
      "^ The most frequent result for 010110 was not the expected result.\n",
      "010111 : 010111100 010111100 1467\n",
      "011000 : 011000011 011000011 5395\n",
      "011001 : 011001010 001001000 4627\n",
      "^ The most frequent result for 011001 was not the expected result.\n",
      "011010 : 011010000 011010000 4225\n",
      "011011 : 011011001 011011001 2516\n",
      "011100 : 011100111 011100111 3304\n",
      "011101 : 011101110 011101110 4107\n",
      "011110 : 011110100 011110100 2497\n",
      "011111 : 011111101 011011001 2050\n",
      "^ The most frequent result for 011111 was not the expected result.\n",
      "100000 : 100000100 000000000 6270\n",
      "^ The most frequent result for 100000 was not the expected result.\n",
      "100001 : 100001101 000001001 6084\n",
      "^ The most frequent result for 100001 was not the expected result.\n",
      "100010 : 100010110 000010010 5033\n",
      "^ The most frequent result for 100010 was not the expected result.\n",
      "100011 : 100011111 000001001 3049\n",
      "^ The most frequent result for 100011 was not the expected result.\n",
      "100100 : 100100010 000000000 4728\n",
      "^ The most frequent result for 100100 was not the expected result.\n",
      "100101 : 100101011 000001001 3258\n",
      "^ The most frequent result for 100101 was not the expected result.\n",
      "100110 : 100110001 000010010 2650\n",
      "^ The most frequent result for 100110 was not the expected result.\n",
      "100111 : 100111000 000011011 1948\n",
      "^ The most frequent result for 100111 was not the expected result.\n",
      "101000 : 101000101 001000001 6677\n",
      "^ The most frequent result for 101000 was not the expected result.\n",
      "101001 : 101001100 001001000 5514\n",
      "^ The most frequent result for 101001 was not the expected result.\n",
      "101010 : 101010111 001010011 3043\n",
      "^ The most frequent result for 101010 was not the expected result.\n",
      "101011 : 101011110 001001000 2588\n",
      "^ The most frequent result for 101011 was not the expected result.\n",
      "101100 : 101100011 001000001 3284\n",
      "^ The most frequent result for 101100 was not the expected result.\n",
      "101101 : 101101010 001001000 3921\n",
      "^ The most frequent result for 101101 was not the expected result.\n",
      "101110 : 101110000 001000001 2032\n",
      "^ The most frequent result for 101110 was not the expected result.\n",
      "101111 : 101111001 001001000 1554\n",
      "^ The most frequent result for 101111 was not the expected result.\n",
      "110000 : 110000110 000000000 4680\n",
      "^ The most frequent result for 110000 was not the expected result.\n",
      "110001 : 110001111 110001111 4032\n",
      "110010 : 110010101 000000000 1990\n",
      "^ The most frequent result for 110010 was not the expected result.\n",
      "110011 : 110011100 010011000 1963\n",
      "^ The most frequent result for 110011 was not the expected result.\n",
      "110100 : 110100001 000100100 2510\n",
      "^ The most frequent result for 110100 was not the expected result.\n",
      "110101 : 110101000 110101000 1777\n",
      "110110 : 110110011 000010010 3110\n",
      "^ The most frequent result for 110110 was not the expected result.\n",
      "110111 : 110111010 010011000 1458\n",
      "^ The most frequent result for 110111 was not the expected result.\n",
      "111000 : 111000111 111000111 3641\n",
      "111001 : 111001110 111001110 2304\n",
      "111010 : 111010100 011010000 2542\n",
      "^ The most frequent result for 111010 was not the expected result.\n",
      "111011 : 111011101 011011001 2214\n",
      "^ The most frequent result for 111011 was not the expected result.\n",
      "111100 : 111100000 001000001 2494\n",
      "^ The most frequent result for 111100 was not the expected result.\n",
      "111101 : 111101001 011001010 1731\n",
      "^ The most frequent result for 111101 was not the expected result.\n",
      "111110 : 111110010 011010000 1726\n",
      "^ The most frequent result for 111110 was not the expected result.\n",
      "111111 : 111111011 001011010 1488\n",
      "^ The most frequent result for 111111 was not the expected result.\n"
     ]
    }
   ],
   "source": [
    "print(\"Input: Expected Output, Actual Output, Number of Occurances (n = \" + str(N) + \")\")\n",
    "\n",
    "results_op_with = {}\n",
    "\n",
    "for i in range(64):\n",
    "    # Adding ancilla\n",
    "    input_num = i\n",
    "    input_num = to_binary(input_num, 6)\n",
    "    input_num.extend([0, 0, 0])\n",
    "    input_num = list_to_num(input_num)\n",
    "    \n",
    "    # Running Qiskit\n",
    "    qc = op_with.get_quantum_circuit(get_qubits(input_num, 9))\n",
    "    result = execute(qc, Aer.get_backend('qasm_simulator'),\n",
    "                     coupling_map=coupling_map,\n",
    "                     basis_gates=basis_gates,\n",
    "                     noise_model=noise_model,\n",
    "                     shots=N).result()\n",
    "    \n",
    "    # Sorting out the final input and outputs\n",
    "    expected_output = to_binary(find_addition(i), 6)[3:6]\n",
    "    final_num = to_binary(i, 6)\n",
    "    final_num.extend(expected_output)\n",
    "    expected_output = list_to_num(final_num)\n",
    "    \n",
    "    # Storing results\n",
    "    counts = result.get_counts(0)\n",
    "    results_op_with['{0:06b}'.format(i)] = counts.get('{0:09b}'.format(expected_output))\n",
    "    \n",
    "    try:\n",
    "        print('{0:06b}'.format(i), \":\",\n",
    "              '{0:09b}'.format(expected_output),\n",
    "              counts.most_frequent(), \n",
    "              counts.get(counts.most_frequent()))\n",
    "        if counts.most_frequent() != '{0:09b}'.format(expected_output):\n",
    "            print(\"^ The most frequent result for\",'{0:06b}'.format(i),\"was not the expected result.\")\n",
    "    except:\n",
    "         print('{0:06b}'.format(i), \":\",\n",
    "              '{0:09b}'.format(expected_output))\n",
    "    "
   ]
  },
  {
   "cell_type": "markdown",
   "id": "b4e4f278-c95a-44b6-96bf-2ce1ba20f08c",
   "metadata": {},
   "source": [
    "### 2.1.3 Graph Obtained"
   ]
  },
  {
   "cell_type": "code",
   "execution_count": 19,
   "id": "6ad8c368-b89e-4c4e-bf81-4b0c6192c3d2",
   "metadata": {
    "tags": []
   },
   "outputs": [
    {
     "data": {
      "image/png": "[encoded data removed]",
      "text/plain": [
       "<Figure size 1440x360 with 1 Axes>"
      ]
     },
     "metadata": {
      "needs_background": "light"
     },
     "output_type": "display_data"
    }
   ],
   "source": [
    "title = \"Success Rate of Differing Qubit Inputs for a 3 Qubit Out of Place Adder with CCCNOTs\"\n",
    "\n",
    "plot_results(results_op_with, title, N, True)"
   ]
  },
  {
   "cell_type": "markdown",
   "id": "b0db3bd3-ccbf-4ce0-a0fe-492d531a84c1",
   "metadata": {},
   "source": [
    "## 2.2 Out of Place Adder Without CCCNOTs"
   ]
  },
  {
   "cell_type": "markdown",
   "id": "52e84b7b-f8a7-48b4-9352-b5f62be756ff",
   "metadata": {},
   "source": [
    "### 2.2.1 Circuit Representation"
   ]
  },
  {
   "cell_type": "code",
   "execution_count": 14,
   "id": "eb981740-4f09-4bc5-8933-49a1ba1e7818",
   "metadata": {
    "tags": []
   },
   "outputs": [],
   "source": [
    "op_without = circuit_builder(\n",
    "    9,\n",
    "[\n",
    "    [1, [[5, 8], 1], 0],\n",
    "    [0, [[2, 8], 1], 1],\n",
    "    [0, [[2, 5], 1], 4],\n",
    "    [0, [[5, 8], 1], 1],\n",
    "    [0, [[7], 1], 2],\n",
    "    [1, [[7], 1], 1],\n",
    "    [2, [[7], 1], 0],\n",
    "    [0, [[4], 1], 5],\n",
    "    [1, [[4], 1], 4],\n",
    "    [2, [[4], 1], 3],\n",
    "\n",
    "])"
   ]
  },
  {
   "cell_type": "markdown",
   "id": "494e8217-2867-4741-a800-bb7b4e208eff",
   "metadata": {},
   "source": [
    "### 2.2.2 Success Rates for Each Input"
   ]
  },
  {
   "cell_type": "code",
   "execution_count": 15,
   "id": "71bb7151-c6f1-45f6-ad82-8ad40425afdf",
   "metadata": {
    "jupyter": {
     "source_hidden": true
    },
    "tags": []
   },
   "outputs": [
    {
     "name": "stdout",
     "output_type": "stream",
     "text": [
      "Input: Expected Output, Actual Output, Number of Occurances (n = 100000)\n",
      "000000 : 000000000 000000000 15305\n",
      "000001 : 000001001 000001001 14682\n",
      "000010 : 000010010 000010010 17459\n",
      "000011 : 000011011 000011011 9432\n",
      "000100 : 000100100 000100100 12243\n",
      "000101 : 000101101 000101101 10296\n",
      "000110 : 000110110 000110110 11105\n",
      "000111 : 000111111 000111111 6775\n",
      "001000 : 001000001 001000001 14314\n",
      "001001 : 001001000 001001000 11634\n",
      "001010 : 001010011 001010011 8347\n",
      "001011 : 001011010 001011010 6155\n",
      "001100 : 001100101 001100101 9206\n",
      "001101 : 001101100 001101100 6579\n",
      "001110 : 001110111 001110111 6586\n",
      "001111 : 001111110 001111110 7726\n",
      "010000 : 010000010 010000010 12831\n",
      "010001 : 010001011 010001011 7077\n",
      "010010 : 010010001 010010001 7316\n",
      "010011 : 010011000 010011000 8064\n",
      "010100 : 010100110 010100110 6487\n",
      "010101 : 010101111 010101111 9750\n",
      "010110 : 010110101 010110101 4095\n",
      "010111 : 010111100 010111100 4967\n",
      "011000 : 011000011 011000011 9059\n",
      "011001 : 011001010 011001010 6827\n",
      "011010 : 011010000 011010000 6245\n",
      "011011 : 011011001 011011001 5616\n",
      "011100 : 011100111 011100111 6084\n",
      "011101 : 011101110 011101110 4432\n",
      "011110 : 011110100 011110100 4825\n",
      "011111 : 011111101 011111101 5188\n",
      "100000 : 100000100 100000100 10386\n",
      "100001 : 100001101 100001101 11232\n",
      "100010 : 100010110 100010110 8557\n",
      "100011 : 100011111 100011111 8360\n",
      "100100 : 100100010 100100010 7251\n",
      "100101 : 100101011 100101011 8146\n",
      "100110 : 100110001 100110001 5287\n",
      "100111 : 100111000 100111000 5799\n",
      "101000 : 101000101 101000101 9766\n",
      "101001 : 101001100 101001100 8716\n",
      "101010 : 101010111 101010111 5888\n",
      "101011 : 101011110 101011110 5345\n",
      "101100 : 101100011 101100011 5551\n",
      "101101 : 101101010 101101010 7917\n",
      "101110 : 101110000 101110000 5319\n",
      "101111 : 101111001 101111001 3521\n",
      "110000 : 110000110 110000110 7278\n",
      "110001 : 110001111 110001111 6112\n",
      "110010 : 110010101 110010101 4946\n",
      "110011 : 110011100 110011100 3626\n",
      "110100 : 110100001 110100000 5312\n",
      "^ The most frequent result for 110100 was not the expected result.\n",
      "110101 : 110101000 110101000 4803\n",
      "110110 : 110110011 110110011 3131\n",
      "110111 : 110111010 110111010 4339\n",
      "111000 : 111000111 111000111 5438\n",
      "111001 : 111001110 111001110 5320\n",
      "111010 : 111010100 111010100 5509\n",
      "111011 : 111011101 111011101 4900\n",
      "111100 : 111100000 111100000 5182\n",
      "111101 : 111101001 111101001 3561\n",
      "111110 : 111110010 111110010 3607\n",
      "111111 : 111111011 111111011 3439\n"
     ]
    }
   ],
   "source": [
    "print(\"Input: Expected Output, Actual Output, Number of Occurances (n = \" + str(N) + \")\")\n",
    "\n",
    "results_op_without = {}\n",
    "\n",
    "for i in range(64):\n",
    "    # Adding ancilla\n",
    "    input_num = i\n",
    "    input_num = to_binary(input_num, 6)\n",
    "    input_num.extend([0, 0, 0])\n",
    "    input_num = list_to_num(input_num)\n",
    "    \n",
    "    # Running Qiskit\n",
    "    qc = op_without.get_quantum_circuit(get_qubits(input_num, 9))\n",
    "    result = execute(qc, Aer.get_backend('qasm_simulator'),\n",
    "                     coupling_map=coupling_map,\n",
    "                     basis_gates=basis_gates,\n",
    "                     noise_model=noise_model,\n",
    "                     shots=N).result()\n",
    "    \n",
    "    # Sorting out the final input and outputs\n",
    "    expected_output = to_binary(find_addition(i), 6)[3:6]\n",
    "    final_num = to_binary(i, 6)\n",
    "    final_num.extend(expected_output)\n",
    "    expected_output = list_to_num(final_num)\n",
    "    \n",
    "    # Storing results\n",
    "    counts = result.get_counts(0)\n",
    "    results_op_without['{0:06b}'.format(i)] = counts.get('{0:09b}'.format(expected_output))\n",
    "    \n",
    "    try:\n",
    "        print('{0:06b}'.format(i), \":\",\n",
    "              '{0:09b}'.format(expected_output),\n",
    "              counts.most_frequent(), \n",
    "              counts.get(counts.most_frequent()))\n",
    "        if counts.most_frequent() != '{0:09b}'.format(expected_output):\n",
    "            print(\"^ The most frequent result for\",'{0:06b}'.format(i),\"was not the expected result.\")\n",
    "    except:\n",
    "         print('{0:06b}'.format(i), \":\",\n",
    "              '{0:09b}'.format(expected_output))\n",
    "    "
   ]
  },
  {
   "cell_type": "markdown",
   "id": "40aae9b8-f363-4022-9acf-2376972b704f",
   "metadata": {},
   "source": [
    "### 2.2.3 Graph Obtained"
   ]
  },
  {
   "cell_type": "code",
   "execution_count": 16,
   "id": "4f9461d3-1eb1-45a8-8ac2-a0872af94c49",
   "metadata": {
    "tags": []
   },
   "outputs": [
    {
     "data": {
      "image/png": "[encoded data removed]",
      "text/plain": [
       "<Figure size 1440x360 with 1 Axes>"
      ]
     },
     "metadata": {
      "needs_background": "light"
     },
     "output_type": "display_data"
    }
   ],
   "source": [
    "title = \"Success Rate of Differing Qubit Inputs for a 3 Qubit Out of Place Adder without CCCNOTs\"\n",
    "\n",
    "plot_results(results_op_without, title, N, True)"
   ]
  },
  {
   "cell_type": "markdown",
   "id": "edbb2616-3bea-47ac-a74d-9ffb11191fec",
   "metadata": {},
   "source": [
    "## 2.3 Comparisons"
   ]
  },
  {
   "cell_type": "markdown",
   "id": "9bb4fc97-ec57-4562-a329-530f50f77e40",
   "metadata": {},
   "source": [
    "### 2.3.1 Graph"
   ]
  },
  {
   "cell_type": "code",
   "execution_count": 20,
   "id": "c810e3de-a108-41b1-a9b7-d9d2dcadbe38",
   "metadata": {
    "jupyter": {
     "source_hidden": true
    },
    "tags": []
   },
   "outputs": [
    {
     "data": {
      "text/plain": [
       "Text(0.5, 1.0, 'Comparison of Success Rate of Two Different 3 Qubit In Place Adders')"
      ]
     },
     "execution_count": 20,
     "metadata": {},
     "output_type": "execute_result"
    },
    {
     "data": {
      "image/png": "[encoded data removed]",
      "text/plain": [
       "<Figure size 1440x360 with 1 Axes>"
      ]
     },
     "metadata": {
      "needs_background": "light"
     },
     "output_type": "display_data"
    }
   ],
   "source": [
    "sorted_op_with = sort_results(results_op_with)\n",
    "sorted_op_without = sort_results(results_op_without)\n",
    "\n",
    "op = pd.DataFrame(\n",
    "    {'Input Qubits': sorted_op_with.keys(),\n",
    "     'With CCCNOTs': sorted_op_with.values(),\n",
    "     'Without CCCNOTs': sorted_op_without.values()\n",
    "    })\n",
    "\n",
    "ax = op.plot(x=\"Input Qubits\", y=[\"With CCCNOTs\", \"Without CCCNOTs\"], kind=\"bar\")\n",
    "ax.yaxis.set_major_formatter(mtick.PercentFormatter(1))\n",
    "ax.set_ylabel(\"Number of Occurances (N = \" + str(N) + \")\")\n",
    "ax.set_title(\"Comparison of Success Rate of Two Different 3 Qubit In Place Adders\")\n",
    "\n"
   ]
  },
  {
   "cell_type": "markdown",
   "id": "c679e9c5-1641-4e75-8a04-bae4e082bdbd",
   "metadata": {},
   "source": [
    "### 2.3.2 Average Percentages"
   ]
  },
  {
   "cell_type": "code",
   "execution_count": 21,
   "id": "823a91d7-5057-40a0-9bb0-448e56b3f2b6",
   "metadata": {},
   "outputs": [
    {
     "name": "stdout",
     "output_type": "stream",
     "text": [
      "Average success percent for out of place adder with CCCNOTs: 3.3%\n",
      "Average success percent for out of place adder without CCCNOTs: 7.3%\n"
     ]
    }
   ],
   "source": [
    "print(\"Average success percent for out of place adder with CCCNOTs: {0:0.1f}%\".format(100*sum(sorted_op_with.values())/len(sorted_op_with)))\n",
    "print(\"Average success percent for out of place adder without CCCNOTs: {0:0.1f}%\".format(100*sum(sorted_op_without.values())/len(sorted_op_without)))"
   ]
  },
  {
   "cell_type": "markdown",
   "id": "4fbd8108-f9d2-4389-a33e-01a4e384fb28",
   "metadata": {},
   "source": [
    "# 3. Saving Data"
   ]
  },
  {
   "cell_type": "code",
   "execution_count": 35,
   "id": "2ff4664e-5956-47ef-8a51-f0c2d7ae3e7b",
   "metadata": {},
   "outputs": [],
   "source": [
    "import json\n",
    "\n",
    "with open('sorted_ip_with.json', 'w') as fp:\n",
    "    json.dump(sorted_ip_with, fp)\n",
    "\n",
    "with open('sorted_ip_without.json', 'w') as fp:\n",
    "    json.dump(sorted_ip_without, fp)\n",
    "\n",
    "with open('sorted_op_with.json', 'w') as fp:\n",
    "    json.dump(sorted_op_with, fp)\n",
    "\n",
    "with open('sorted_op_without.json', 'w') as fp:\n",
    "    json.dump(sorted_op_without, fp)"
   ]
  },
  {
   "cell_type": "markdown",
   "id": "a8a89585-5258-4867-9e26-58adcd5a5e42",
   "metadata": {},
   "source": [
    "# 4. Calculating Standard Deviations"
   ]
  },
  {
   "cell_type": "code",
   "execution_count": 16,
   "id": "9fc7031f-4f42-4648-9bb9-0c950e62b49c",
   "metadata": {},
   "outputs": [
    {
     "name": "stdout",
     "output_type": "stream",
     "text": [
      "Standard deviation for average success percent for in place adder with CCCNOTs: 5.3%\n",
      "Standard deviation for average success percent for in place adder without CCCNOTs: 4.5%\n",
      "Standard deviation for average success percent for out of place adder with CCCNOTs: 1.7%\n",
      "Standard deviation for average success percent for out of place adder without CCCNOTs: 3.1%\n"
     ]
    }
   ],
   "source": [
    "import json\n",
    "import numpy as np \n",
    "\n",
    "fp = open('sorted_ip_with.json',)\n",
    "data = json.load(fp)\n",
    "print(\"Standard deviation for average success percent for in place adder with CCCNOTs: {0:0.1f}%\".format(\n",
    "    100*np.std(list(data.values()))))\n",
    "\n",
    "fp = open('sorted_ip_without.json',)\n",
    "data = json.load(fp)\n",
    "print(\"Standard deviation for average success percent for in place adder without CCCNOTs: {0:0.1f}%\".format(\n",
    "    100*np.std(list(data.values()))))\n",
    "\n",
    "fp = open('sorted_op_with.json',)\n",
    "data = json.load(fp)\n",
    "print(\"Standard deviation for average success percent for out of place adder with CCCNOTs: {0:0.1f}%\".format(\n",
    "    100*np.std(list(data.values()))))\n",
    "\n",
    "fp = open('sorted_op_without.json',)\n",
    "data = json.load(fp)\n",
    "print(\"Standard deviation for average success percent for out of place adder without CCCNOTs: {0:0.1f}%\".format(\n",
    "    100*np.std(list(data.values()))))"
   ]
  }
 ],
 "metadata": {
  "kernelspec": {
   "display_name": "Python 3",
   "language": "python",
   "name": "python3"
  },
  "language_info": {
   "codemirror_mode": {
    "name": "ipython",
    "version": 3
   },
   "file_extension": ".py",
   "mimetype": "text/x-python",
   "name": "python",
   "nbconvert_exporter": "python",
   "pygments_lexer": "ipython3",
   "version": "3.8.8"
  }
 },
 "nbformat": 4,
 "nbformat_minor": 5
}
